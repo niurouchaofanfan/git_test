{
 "cells": [
  {
   "cell_type": "code",
   "execution_count": 1,
   "metadata": {},
   "outputs": [],
   "source": [
    "#Tensor在数学中表示为张量\n",
    "#标量表示值\n",
    "#矢量表示位置（空间中的一个点）\n",
    "#张量表示整个空间\n",
    "\n",
    "#一维数组是矢量\n",
    "#多维数组是张量，矩阵也是张量"
   ]
  },
  {
   "cell_type": "code",
   "execution_count": 3,
   "metadata": {},
   "outputs": [],
   "source": [
    "#四个重要类型\n",
    "#@Variable  计算图谱中的变量\n",
    "#@Tensor  一个多为矩阵，带有很多方法\n",
    "#@Graph    一个计算图谱\n",
    "#@Session   用来运行一个计算图谱"
   ]
  },
  {
   "cell_type": "code",
   "execution_count": null,
   "metadata": {},
   "outputs": [],
   "source": [
    "#三个重要函数\n",
    "#Variable 变量\n",
    "\"\"\"tf.variable.__init__(\n",
    "initial_value = None,@Tensor\n",
    "    trainable = True,\n",
    "    collections = None,\n",
    "    validate_shape = True,\n",
    "    caching_device = None,\n",
    "    name = None,\n",
    "    variable_def = None,\n",
    "    dtype = None\n",
    ")\"\"\""
   ]
  }
 ],
 "metadata": {
  "kernelspec": {
   "display_name": "Python 3",
   "language": "python",
   "name": "python3"
  },
  "language_info": {
   "codemirror_mode": {
    "name": "ipython",
    "version": 3
   },
   "file_extension": ".py",
   "mimetype": "text/x-python",
   "name": "python",
   "nbconvert_exporter": "python",
   "pygments_lexer": "ipython3",
   "version": "3.7.3"
  }
 },
 "nbformat": 4,
 "nbformat_minor": 2
}
