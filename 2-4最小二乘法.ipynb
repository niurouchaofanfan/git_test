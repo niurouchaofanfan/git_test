{
 "cells": [
  {
   "cell_type": "code",
   "execution_count": 6,
   "metadata": {},
   "outputs": [],
   "source": [
    "import tensorflow as tf\n",
    "import numpy as np"
   ]
  },
  {
   "cell_type": "code",
   "execution_count": 8,
   "metadata": {},
   "outputs": [
    {
     "name": "stdout",
     "output_type": "stream",
     "text": [
      "0 [0.55462945, 0.64932966]\n",
      "100 [0.23907305, 0.98246634]\n",
      "200 [0.20358244, 0.9983924]\n",
      "300 [0.20032845, 0.9998526]\n",
      "400 [0.20003013, 0.99998647]\n",
      "500 [0.2000028, 0.99999875]\n"
     ]
    }
   ],
   "source": [
    "#创建100个数据\n",
    "data_x = np.random.rand(100)\n",
    "data_y = 0.2*data_x + 1\n",
    "\n",
    "#创建变量\n",
    "k = tf.Variable(0.5)\n",
    "b = tf.Variable(0.5)\n",
    "y = k*data_x + b\n",
    "\n",
    "#定义二次代价函数\n",
    "loss = tf.reduce_mean(tf.square(data_y - y))\n",
    "#创建梯度下降的优化器，0.2表示学习率\n",
    "optimizer = tf.train.GradientDescentOptimizer(0.2)\n",
    "#最小化代价函数\n",
    "train = optimizer.minimize(loss)\n",
    "\n",
    "#初始化变量\n",
    "init = tf.global_variables_initializer()\n",
    "\n",
    "with tf.Session() as sess:\n",
    "    sess.run(init)\n",
    "    for i in range(501):\n",
    "        sess.run(train)\n",
    "        if i % 100 == 0:\n",
    "            print(i,sess.run([k,b]))\n"
   ]
  },
  {
   "cell_type": "code",
   "execution_count": null,
   "metadata": {},
   "outputs": [],
   "source": []
  },
  {
   "cell_type": "code",
   "execution_count": null,
   "metadata": {},
   "outputs": [],
   "source": []
  }
 ],
 "metadata": {
  "kernelspec": {
   "display_name": "Python 3",
   "language": "python",
   "name": "python3"
  },
  "language_info": {
   "codemirror_mode": {
    "name": "ipython",
    "version": 3
   },
   "file_extension": ".py",
   "mimetype": "text/x-python",
   "name": "python",
   "nbconvert_exporter": "python",
   "pygments_lexer": "ipython3",
   "version": "3.7.3"
  }
 },
 "nbformat": 4,
 "nbformat_minor": 2
}
