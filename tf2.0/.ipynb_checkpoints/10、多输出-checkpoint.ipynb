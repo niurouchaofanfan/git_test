{
 "cells": [
  {
   "cell_type": "code",
   "execution_count": 1,
   "metadata": {},
   "outputs": [
    {
     "name": "stdout",
     "output_type": "stream",
     "text": [
      "2.0.0\n",
      "sys.version_info(major=3, minor=7, micro=3, releaselevel='final', serial=0)\n",
      "matplotlib 3.0.3\n",
      "numpy 1.16.6\n",
      "pandas 0.24.2\n",
      "sklearn 0.20.3\n",
      "tensorflow 2.0.0\n",
      "tensorflow_core.keras 2.2.4-tf\n"
     ]
    }
   ],
   "source": [
    "import matplotlib as mpl\n",
    "import matplotlib.pyplot as plt\n",
    "%matplotlib inline\n",
    "import numpy as np\n",
    "import sklearn\n",
    "import pandas as pd\n",
    "import os\n",
    "import sys\n",
    "import time\n",
    "import tensorflow as tf\n",
    "\n",
    "from tensorflow import keras\n",
    "\n",
    "print(tf.__version__)\n",
    "print(sys.version_info)\n",
    "for module in mpl, np, pd, sklearn, tf, keras:\n",
    "    print(module.__name__, module.__version__)"
   ]
  },
  {
   "cell_type": "code",
   "execution_count": 2,
   "metadata": {},
   "outputs": [
    {
     "name": "stdout",
     "output_type": "stream",
     "text": [
      ".. _california_housing_dataset:\n",
      "\n",
      "California Housing dataset\n",
      "--------------------------\n",
      "\n",
      "**Data Set Characteristics:**\n",
      "\n",
      "    :Number of Instances: 20640\n",
      "\n",
      "    :Number of Attributes: 8 numeric, predictive attributes and the target\n",
      "\n",
      "    :Attribute Information:\n",
      "        - MedInc        median income in block\n",
      "        - HouseAge      median house age in block\n",
      "        - AveRooms      average number of rooms\n",
      "        - AveBedrms     average number of bedrooms\n",
      "        - Population    block population\n",
      "        - AveOccup      average house occupancy\n",
      "        - Latitude      house block latitude\n",
      "        - Longitude     house block longitude\n",
      "\n",
      "    :Missing Attribute Values: None\n",
      "\n",
      "This dataset was obtained from the StatLib repository.\n",
      "http://lib.stat.cmu.edu/datasets/\n",
      "\n",
      "The target variable is the median house value for California districts.\n",
      "\n",
      "This dataset was derived from the 1990 U.S. census, using one row per census\n",
      "block group. A block group is the smallest geographical unit for which the U.S.\n",
      "Census Bureau publishes sample data (a block group typically has a population\n",
      "of 600 to 3,000 people).\n",
      "\n",
      "It can be downloaded/loaded using the\n",
      ":func:`sklearn.datasets.fetch_california_housing` function.\n",
      "\n",
      ".. topic:: References\n",
      "\n",
      "    - Pace, R. Kelley and Ronald Barry, Sparse Spatial Autoregressions,\n",
      "      Statistics and Probability Letters, 33 (1997) 291-297\n",
      "\n",
      "(20640, 8)\n",
      "(20640,)\n"
     ]
    }
   ],
   "source": [
    "from sklearn.datasets import fetch_california_housing\n",
    "\n",
    "housing = fetch_california_housing()\n",
    "print(housing.DESCR)\n",
    "print(housing.data.shape)\n",
    "print(housing.target.shape)"
   ]
  },
  {
   "cell_type": "code",
   "execution_count": 3,
   "metadata": {},
   "outputs": [
    {
     "name": "stdout",
     "output_type": "stream",
     "text": [
      "(11610, 8) (11610,)\n",
      "(3870, 8) (3870,)\n",
      "(5160, 8) (5160,)\n"
     ]
    }
   ],
   "source": [
    "from sklearn.model_selection import train_test_split\n",
    "\n",
    "x_train_all, x_test, y_train_all, y_test = train_test_split(\n",
    "    housing.data, housing.target, random_state = 7)\n",
    "x_train, x_valid, y_train, y_valid = train_test_split(\n",
    "    x_train_all, y_train_all, random_state = 11)\n",
    "print(x_train.shape, y_train.shape)\n",
    "print(x_valid.shape, y_valid.shape)\n",
    "print(x_test.shape, y_test.shape)\n"
   ]
  },
  {
   "cell_type": "code",
   "execution_count": null,
   "metadata": {},
   "outputs": [],
   "source": [
    "from sklearn.preprocessing import StandardScaler\n",
    "\n",
    "scaler = StandardScaler()\n",
    "x_train_scaled = scaler.fit_transform(x_train)\n",
    "x_valid_scaled = scaler.transform(x_valid)\n",
    "x_test_scaled = scaler.transform(x_test)"
   ]
  },
  {
   "cell_type": "code",
   "execution_count": null,
   "metadata": {},
   "outputs": [
    {
     "name": "stdout",
     "output_type": "stream",
     "text": [
      "Model: \"model\"\n",
      "__________________________________________________________________________________________________\n",
      "Layer (type)                    Output Shape         Param #     Connected to                     \n",
      "==================================================================================================\n",
      "input_2 (InputLayer)            [(None, 6)]          0                                            \n",
      "__________________________________________________________________________________________________\n",
      "dense (Dense)                   (None, 30)           210         input_2[0][0]                    \n",
      "__________________________________________________________________________________________________\n",
      "input_1 (InputLayer)            [(None, 5)]          0                                            \n",
      "__________________________________________________________________________________________________\n",
      "dense_1 (Dense)                 (None, 30)           930         dense[0][0]                      \n",
      "__________________________________________________________________________________________________\n",
      "concatenate (Concatenate)       (None, 35)           0           input_1[0][0]                    \n",
      "                                                                 dense_1[0][0]                    \n",
      "__________________________________________________________________________________________________\n",
      "dense_2 (Dense)                 (None, 1)            36          concatenate[0][0]                \n",
      "__________________________________________________________________________________________________\n",
      "dense_3 (Dense)                 (None, 1)            31          dense_1[0][0]                    \n",
      "==================================================================================================\n",
      "Total params: 1,207\n",
      "Trainable params: 1,207\n",
      "Non-trainable params: 0\n",
      "__________________________________________________________________________________________________\n"
     ]
    }
   ],
   "source": [
    "# 多输出\n",
    "input_wide = keras.layers.Input(shape=[5])\n",
    "input_deep = keras.layers.Input(shape=[6])\n",
    "hidden1 = keras.layers.Dense(30, activation='relu')(input_deep)\n",
    "hidden2 = keras.layers.Dense(30, activation='relu')(hidden1)\n",
    "concat = keras.layers.concatenate([input_wide, hidden2])\n",
    "output = keras.layers.Dense(1)(concat)\n",
    "output2 = keras.layers.Dense(1)(hidden2)\n",
    "model = keras.models.Model(inputs = [input_wide, input_deep],\n",
    "                           outputs = [output, output2])\n",
    "        \n",
    "\n",
    "model.compile(loss=\"mean_squared_error\", optimizer=\"sgd\")\n",
    "callbacks = [keras.callbacks.EarlyStopping(\n",
    "    patience=5, min_delta=1e-2)]\n",
    "model.summary()"
   ]
  },
  {
   "cell_type": "code",
   "execution_count": null,
   "metadata": {},
   "outputs": [
    {
     "name": "stdout",
     "output_type": "stream",
     "text": [
      "Train on 11610 samples, validate on 3870 samples\n",
      "Epoch 1/100\n",
      "11610/11610 [==============================] - 5s 454us/sample - loss: 2.0237 - dense_2_loss: 0.8196 - dense_3_loss: 1.2036 - val_loss: 1.2139 - val_dense_2_loss: 0.4855 - val_dense_3_loss: 0.7283\n",
      "Epoch 2/100\n",
      "11610/11610 [==============================] - 1s 94us/sample - loss: 1.1425 - dense_2_loss: 0.4824 - dense_3_loss: 0.6603 - val_loss: 1.0649 - val_dense_2_loss: 0.4544 - val_dense_3_loss: 0.6103\n",
      "Epoch 3/100\n",
      "11610/11610 [==============================] - 1s 76us/sample - loss: 1.0127 - dense_2_loss: 0.4423 - dense_3_loss: 0.5703 - val_loss: 1.0011 - val_dense_2_loss: 0.4249 - val_dense_3_loss: 0.5760\n",
      "Epoch 4/100\n",
      "11610/11610 [==============================] - 1s 78us/sample - loss: 0.9571 - dense_2_loss: 0.4171 - dense_3_loss: 0.5397 - val_loss: 0.9543 - val_dense_2_loss: 0.4125 - val_dense_3_loss: 0.5417\n",
      "Epoch 5/100\n",
      "11610/11610 [==============================] - 1s 94us/sample - loss: 0.9120 - dense_2_loss: 0.3953 - dense_3_loss: 0.5165 - val_loss: 0.9271 - val_dense_2_loss: 0.4113 - val_dense_3_loss: 0.5157\n",
      "Epoch 6/100\n",
      "11610/11610 [==============================] - 1s 74us/sample - loss: 0.8796 - dense_2_loss: 0.3870 - dense_3_loss: 0.4926 - val_loss: 0.9232 - val_dense_2_loss: 0.4269 - val_dense_3_loss: 0.4961\n",
      "Epoch 7/100\n",
      "11610/11610 [==============================] - 1s 74us/sample - loss: 0.8541 - dense_2_loss: 0.3778 - dense_3_loss: 0.4762 - val_loss: 0.9154 - val_dense_2_loss: 0.4261 - val_dense_3_loss: 0.4891\n",
      "Epoch 8/100\n",
      "11610/11610 [==============================] - 1s 76us/sample - loss: 0.8260 - dense_2_loss: 0.3684 - dense_3_loss: 0.4576 - val_loss: 0.8331 - val_dense_2_loss: 0.3739 - val_dense_3_loss: 0.4591\n",
      "Epoch 9/100\n",
      "11610/11610 [==============================] - 1s 70us/sample - loss: 0.8349 - dense_2_loss: 0.3841 - dense_3_loss: 0.4508 - val_loss: 0.8478 - val_dense_2_loss: 0.3827 - val_dense_3_loss: 0.4650\n",
      "Epoch 10/100\n",
      "11610/11610 [==============================] - 1s 68us/sample - loss: 0.7989 - dense_2_loss: 0.3624 - dense_3_loss: 0.4366 - val_loss: 0.8141 - val_dense_2_loss: 0.3657 - val_dense_3_loss: 0.4483\n",
      "Epoch 11/100\n",
      "11610/11610 [==============================] - 1s 65us/sample - loss: 0.7794 - dense_2_loss: 0.3497 - dense_3_loss: 0.4298 - val_loss: 0.8289 - val_dense_2_loss: 0.3582 - val_dense_3_loss: 0.4705\n",
      "Epoch 12/100\n",
      "11610/11610 [==============================] - 1s 65us/sample - loss: 0.7689 - dense_2_loss: 0.3477 - dense_3_loss: 0.4210 - val_loss: 0.8156 - val_dense_2_loss: 0.3694 - val_dense_3_loss: 0.4461\n",
      "Epoch 13/100\n",
      "11610/11610 [==============================] - 1s 63us/sample - loss: 0.7501 - dense_2_loss: 0.3391 - dense_3_loss: 0.4113 - val_loss: 0.8152 - val_dense_2_loss: 0.3660 - val_dense_3_loss: 0.4491\n",
      "Epoch 14/100\n",
      "11610/11610 [==============================] - 1s 68us/sample - loss: 0.7351 - dense_2_loss: 0.3346 - dense_3_loss: 0.4006 - val_loss: 0.7456 - val_dense_2_loss: 0.3443 - val_dense_3_loss: 0.4011\n",
      "Epoch 15/100\n",
      "  832/11610 [=>............................] - ETA: 0s - loss: 0.8417 - dense_2_loss: 0.3936 - dense_3_loss: 0.4481"
     ]
    }
   ],
   "source": [
    "x_train_scaled_wide = x_train_scaled[:, :5]\n",
    "x_train_scaled_deep = x_train_scaled[:, 2:]\n",
    "x_valid_scaled_wide = x_valid_scaled[:, :5]\n",
    "x_valid_scaled_deep = x_valid_scaled[:, 2:]\n",
    "x_test_scaled_wide = x_test_scaled[:, :5]\n",
    "x_test_scaled_deep = x_test_scaled[:, 2:]\n",
    "\n",
    "history = model.fit([x_train_scaled_wide, x_train_scaled_deep],\n",
    "                    [y_train, y_train],\n",
    "                    validation_data = (\n",
    "                        [x_valid_scaled_wide, x_valid_scaled_deep],\n",
    "                        [y_valid, y_valid]),\n",
    "                    epochs = 100,\n",
    "                    callbacks = callbacks)"
   ]
  },
  {
   "cell_type": "code",
   "execution_count": null,
   "metadata": {},
   "outputs": [],
   "source": [
    "def plot_learning_curves(history):\n",
    "    pd.DataFrame(history.history).plot(figsize=(8, 5))\n",
    "    plt.grid(True)\n",
    "    plt.gca().set_ylim(0, 1)\n",
    "    plt.show()\n",
    "plot_learning_curves(history)"
   ]
  },
  {
   "cell_type": "code",
   "execution_count": null,
   "metadata": {},
   "outputs": [],
   "source": [
    "model.evaluate([x_test_scaled_wide, x_test_scaled_deep],\n",
    "               [y_test, y_test])"
   ]
  },
  {
   "cell_type": "code",
   "execution_count": null,
   "metadata": {},
   "outputs": [],
   "source": []
  }
 ],
 "metadata": {
  "kernelspec": {
   "display_name": "Python 3",
   "language": "python",
   "name": "python3"
  },
  "language_info": {
   "codemirror_mode": {
    "name": "ipython",
    "version": 3
   },
   "file_extension": ".py",
   "mimetype": "text/x-python",
   "name": "python",
   "nbconvert_exporter": "python",
   "pygments_lexer": "ipython3",
   "version": "3.7.3"
  }
 },
 "nbformat": 4,
 "nbformat_minor": 2
}
