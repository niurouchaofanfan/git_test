{
 "cells": [
  {
   "cell_type": "code",
   "execution_count": 1,
   "metadata": {},
   "outputs": [
    {
     "name": "stdout",
     "output_type": "stream",
     "text": [
      "2.0.0\n",
      "sys.version_info(major=3, minor=7, micro=3, releaselevel='final', serial=0)\n",
      "matplotlib 3.0.3\n",
      "numpy 1.16.6\n",
      "pandas 0.24.2\n",
      "sklearn 0.20.3\n",
      "tensorflow 2.0.0\n",
      "tensorflow_core.keras 2.2.4-tf\n"
     ]
    }
   ],
   "source": [
    "import matplotlib as mpl\n",
    "import matplotlib.pyplot as plt\n",
    "%matplotlib inline\n",
    "import numpy as np\n",
    "import sklearn\n",
    "import pandas as pd\n",
    "import os\n",
    "import sys\n",
    "import time\n",
    "import tensorflow as tf\n",
    "\n",
    "from tensorflow import keras\n",
    "\n",
    "print(tf.__version__)\n",
    "print(sys.version_info)\n",
    "for module in mpl, np, pd, sklearn, tf, keras:\n",
    "    print(module.__name__, module.__version__)"
   ]
  },
  {
   "cell_type": "code",
   "execution_count": 2,
   "metadata": {},
   "outputs": [
    {
     "data": {
      "text/plain": [
       "<tf.Tensor: id=29, shape=(10, 100), dtype=float32, numpy=\n",
       "array([[0., 0., 0., 0., 0., 0., 0., 0., 0., 0., 0., 0., 0., 0., 0., 0.,\n",
       "        0., 0., 0., 0., 0., 0., 0., 0., 0., 0., 0., 0., 0., 0., 0., 0.,\n",
       "        0., 0., 0., 0., 0., 0., 0., 0., 0., 0., 0., 0., 0., 0., 0., 0.,\n",
       "        0., 0., 0., 0., 0., 0., 0., 0., 0., 0., 0., 0., 0., 0., 0., 0.,\n",
       "        0., 0., 0., 0., 0., 0., 0., 0., 0., 0., 0., 0., 0., 0., 0., 0.,\n",
       "        0., 0., 0., 0., 0., 0., 0., 0., 0., 0., 0., 0., 0., 0., 0., 0.,\n",
       "        0., 0., 0., 0.],\n",
       "       [0., 0., 0., 0., 0., 0., 0., 0., 0., 0., 0., 0., 0., 0., 0., 0.,\n",
       "        0., 0., 0., 0., 0., 0., 0., 0., 0., 0., 0., 0., 0., 0., 0., 0.,\n",
       "        0., 0., 0., 0., 0., 0., 0., 0., 0., 0., 0., 0., 0., 0., 0., 0.,\n",
       "        0., 0., 0., 0., 0., 0., 0., 0., 0., 0., 0., 0., 0., 0., 0., 0.,\n",
       "        0., 0., 0., 0., 0., 0., 0., 0., 0., 0., 0., 0., 0., 0., 0., 0.,\n",
       "        0., 0., 0., 0., 0., 0., 0., 0., 0., 0., 0., 0., 0., 0., 0., 0.,\n",
       "        0., 0., 0., 0.],\n",
       "       [0., 0., 0., 0., 0., 0., 0., 0., 0., 0., 0., 0., 0., 0., 0., 0.,\n",
       "        0., 0., 0., 0., 0., 0., 0., 0., 0., 0., 0., 0., 0., 0., 0., 0.,\n",
       "        0., 0., 0., 0., 0., 0., 0., 0., 0., 0., 0., 0., 0., 0., 0., 0.,\n",
       "        0., 0., 0., 0., 0., 0., 0., 0., 0., 0., 0., 0., 0., 0., 0., 0.,\n",
       "        0., 0., 0., 0., 0., 0., 0., 0., 0., 0., 0., 0., 0., 0., 0., 0.,\n",
       "        0., 0., 0., 0., 0., 0., 0., 0., 0., 0., 0., 0., 0., 0., 0., 0.,\n",
       "        0., 0., 0., 0.],\n",
       "       [0., 0., 0., 0., 0., 0., 0., 0., 0., 0., 0., 0., 0., 0., 0., 0.,\n",
       "        0., 0., 0., 0., 0., 0., 0., 0., 0., 0., 0., 0., 0., 0., 0., 0.,\n",
       "        0., 0., 0., 0., 0., 0., 0., 0., 0., 0., 0., 0., 0., 0., 0., 0.,\n",
       "        0., 0., 0., 0., 0., 0., 0., 0., 0., 0., 0., 0., 0., 0., 0., 0.,\n",
       "        0., 0., 0., 0., 0., 0., 0., 0., 0., 0., 0., 0., 0., 0., 0., 0.,\n",
       "        0., 0., 0., 0., 0., 0., 0., 0., 0., 0., 0., 0., 0., 0., 0., 0.,\n",
       "        0., 0., 0., 0.],\n",
       "       [0., 0., 0., 0., 0., 0., 0., 0., 0., 0., 0., 0., 0., 0., 0., 0.,\n",
       "        0., 0., 0., 0., 0., 0., 0., 0., 0., 0., 0., 0., 0., 0., 0., 0.,\n",
       "        0., 0., 0., 0., 0., 0., 0., 0., 0., 0., 0., 0., 0., 0., 0., 0.,\n",
       "        0., 0., 0., 0., 0., 0., 0., 0., 0., 0., 0., 0., 0., 0., 0., 0.,\n",
       "        0., 0., 0., 0., 0., 0., 0., 0., 0., 0., 0., 0., 0., 0., 0., 0.,\n",
       "        0., 0., 0., 0., 0., 0., 0., 0., 0., 0., 0., 0., 0., 0., 0., 0.,\n",
       "        0., 0., 0., 0.],\n",
       "       [0., 0., 0., 0., 0., 0., 0., 0., 0., 0., 0., 0., 0., 0., 0., 0.,\n",
       "        0., 0., 0., 0., 0., 0., 0., 0., 0., 0., 0., 0., 0., 0., 0., 0.,\n",
       "        0., 0., 0., 0., 0., 0., 0., 0., 0., 0., 0., 0., 0., 0., 0., 0.,\n",
       "        0., 0., 0., 0., 0., 0., 0., 0., 0., 0., 0., 0., 0., 0., 0., 0.,\n",
       "        0., 0., 0., 0., 0., 0., 0., 0., 0., 0., 0., 0., 0., 0., 0., 0.,\n",
       "        0., 0., 0., 0., 0., 0., 0., 0., 0., 0., 0., 0., 0., 0., 0., 0.,\n",
       "        0., 0., 0., 0.],\n",
       "       [0., 0., 0., 0., 0., 0., 0., 0., 0., 0., 0., 0., 0., 0., 0., 0.,\n",
       "        0., 0., 0., 0., 0., 0., 0., 0., 0., 0., 0., 0., 0., 0., 0., 0.,\n",
       "        0., 0., 0., 0., 0., 0., 0., 0., 0., 0., 0., 0., 0., 0., 0., 0.,\n",
       "        0., 0., 0., 0., 0., 0., 0., 0., 0., 0., 0., 0., 0., 0., 0., 0.,\n",
       "        0., 0., 0., 0., 0., 0., 0., 0., 0., 0., 0., 0., 0., 0., 0., 0.,\n",
       "        0., 0., 0., 0., 0., 0., 0., 0., 0., 0., 0., 0., 0., 0., 0., 0.,\n",
       "        0., 0., 0., 0.],\n",
       "       [0., 0., 0., 0., 0., 0., 0., 0., 0., 0., 0., 0., 0., 0., 0., 0.,\n",
       "        0., 0., 0., 0., 0., 0., 0., 0., 0., 0., 0., 0., 0., 0., 0., 0.,\n",
       "        0., 0., 0., 0., 0., 0., 0., 0., 0., 0., 0., 0., 0., 0., 0., 0.,\n",
       "        0., 0., 0., 0., 0., 0., 0., 0., 0., 0., 0., 0., 0., 0., 0., 0.,\n",
       "        0., 0., 0., 0., 0., 0., 0., 0., 0., 0., 0., 0., 0., 0., 0., 0.,\n",
       "        0., 0., 0., 0., 0., 0., 0., 0., 0., 0., 0., 0., 0., 0., 0., 0.,\n",
       "        0., 0., 0., 0.],\n",
       "       [0., 0., 0., 0., 0., 0., 0., 0., 0., 0., 0., 0., 0., 0., 0., 0.,\n",
       "        0., 0., 0., 0., 0., 0., 0., 0., 0., 0., 0., 0., 0., 0., 0., 0.,\n",
       "        0., 0., 0., 0., 0., 0., 0., 0., 0., 0., 0., 0., 0., 0., 0., 0.,\n",
       "        0., 0., 0., 0., 0., 0., 0., 0., 0., 0., 0., 0., 0., 0., 0., 0.,\n",
       "        0., 0., 0., 0., 0., 0., 0., 0., 0., 0., 0., 0., 0., 0., 0., 0.,\n",
       "        0., 0., 0., 0., 0., 0., 0., 0., 0., 0., 0., 0., 0., 0., 0., 0.,\n",
       "        0., 0., 0., 0.],\n",
       "       [0., 0., 0., 0., 0., 0., 0., 0., 0., 0., 0., 0., 0., 0., 0., 0.,\n",
       "        0., 0., 0., 0., 0., 0., 0., 0., 0., 0., 0., 0., 0., 0., 0., 0.,\n",
       "        0., 0., 0., 0., 0., 0., 0., 0., 0., 0., 0., 0., 0., 0., 0., 0.,\n",
       "        0., 0., 0., 0., 0., 0., 0., 0., 0., 0., 0., 0., 0., 0., 0., 0.,\n",
       "        0., 0., 0., 0., 0., 0., 0., 0., 0., 0., 0., 0., 0., 0., 0., 0.,\n",
       "        0., 0., 0., 0., 0., 0., 0., 0., 0., 0., 0., 0., 0., 0., 0., 0.,\n",
       "        0., 0., 0., 0.]], dtype=float32)>"
      ]
     },
     "execution_count": 2,
     "metadata": {},
     "output_type": "execute_result"
    }
   ],
   "source": [
    "layer = tf.keras.layers.Dense(100)\n",
    "layer = tf.keras.layers.Dense(100, input_shape=(None, 5))\n",
    "layer(tf.zeros([10, 5]))"
   ]
  },
  {
   "cell_type": "code",
   "execution_count": 3,
   "metadata": {},
   "outputs": [
    {
     "data": {
      "text/plain": [
       "[<tf.Variable 'dense_1/kernel:0' shape=(5, 100) dtype=float32, numpy=\n",
       " array([[ 0.1544442 , -0.00202   ,  0.04798509, -0.13470072, -0.04220977,\n",
       "         -0.21737467,  0.00629875,  0.02510397, -0.12311918,  0.07560576,\n",
       "          0.08711748,  0.10295929,  0.18229084,  0.15417998,  0.10012458,\n",
       "          0.1259792 ,  0.00824426, -0.19071326,  0.14881848, -0.01637088,\n",
       "          0.06920083,  0.18551378, -0.17391813,  0.20506795,  0.11811821,\n",
       "          0.05277358, -0.02042712, -0.11063413,  0.10894628, -0.01582934,\n",
       "          0.23890324,  0.02809747,  0.21213065, -0.10127914, -0.05327204,\n",
       "         -0.1959081 , -0.23475552, -0.0700812 , -0.21993878,  0.21817549,\n",
       "         -0.23660728,  0.03432588,  0.15612133, -0.12662047,  0.21980207,\n",
       "         -0.22152552, -0.07037187,  0.01751365,  0.00618435,  0.21885677,\n",
       "         -0.15017715,  0.05339326,  0.04321159,  0.22645916,  0.07749479,\n",
       "          0.00735858,  0.0970694 , -0.14580321,  0.1777391 , -0.03538994,\n",
       "          0.12808354,  0.04569466, -0.06721462,  0.09129123, -0.22503936,\n",
       "          0.23042499,  0.04997773,  0.1233248 ,  0.15376161,  0.22503759,\n",
       "         -0.23090634, -0.07510398,  0.07770155, -0.07709372, -0.04168065,\n",
       "          0.0340855 , -0.18525356, -0.17166644, -0.05672622, -0.19277018,\n",
       "          0.14243521,  0.03197099,  0.19863324, -0.21983768, -0.0145295 ,\n",
       "          0.07908227,  0.21852656,  0.19806756, -0.10326779, -0.21410298,\n",
       "          0.22221924,  0.19698267, -0.15512982, -0.20705187,  0.21998815,\n",
       "         -0.11943019, -0.0658488 ,  0.10566439, -0.22550596,  0.04808103],\n",
       "        [-0.12946106,  0.16352482, -0.05221237,  0.04159762,  0.06384282,\n",
       "         -0.11463418, -0.00417234,  0.06598957, -0.1661366 , -0.0603545 ,\n",
       "          0.08219106,  0.11437063,  0.12054954, -0.1990157 , -0.17543828,\n",
       "         -0.04548356,  0.2374685 ,  0.20233263,  0.08392023,  0.15309973,\n",
       "         -0.13305897,  0.19108246,  0.14538266,  0.02955128, -0.00565997,\n",
       "         -0.13797113,  0.0310403 , -0.15236744, -0.17066337, -0.20268212,\n",
       "         -0.10709538, -0.05165116, -0.0110437 , -0.04081042,  0.23460348,\n",
       "         -0.1139241 ,  0.19264276,  0.18562065,  0.11089693, -0.14422138,\n",
       "          0.07090674,  0.1202579 ,  0.13784079, -0.20268229, -0.09828512,\n",
       "         -0.2074555 ,  0.14589207, -0.06292756, -0.22371519, -0.15700136,\n",
       "          0.22950642,  0.02789395, -0.04585955, -0.15395646, -0.2103977 ,\n",
       "          0.17814596,  0.1605212 , -0.0779697 , -0.13178957, -0.18933997,\n",
       "          0.11404572, -0.16323787, -0.23545386,  0.21284442,  0.18819194,\n",
       "          0.20590924, -0.16628249, -0.01559521, -0.20068605,  0.05966027,\n",
       "         -0.17207536, -0.10290504, -0.15624517, -0.15623942, -0.23859206,\n",
       "          0.12233387, -0.17975773, -0.10258137, -0.22495803,  0.206596  ,\n",
       "         -0.02780235,  0.21770005,  0.15174238, -0.04976818, -0.07807942,\n",
       "         -0.18029775, -0.20513156,  0.07121627,  0.02077155, -0.14617488,\n",
       "          0.20471038,  0.0068012 ,  0.02792363, -0.19331379,  0.1078112 ,\n",
       "          0.07343273, -0.16671148, -0.1425292 , -0.0787586 ,  0.22728683],\n",
       "        [ 0.14617841,  0.04713671, -0.09293127,  0.13940592, -0.07303999,\n",
       "          0.08338757,  0.06798039, -0.04428813, -0.11202697,  0.04170196,\n",
       "         -0.07998766,  0.0850019 , -0.10792446, -0.02431661, -0.22235659,\n",
       "          0.20239095, -0.1196018 , -0.0880761 , -0.08540769, -0.08643003,\n",
       "          0.04498659,  0.13456033, -0.0138754 ,  0.21058522,  0.0867949 ,\n",
       "          0.14301245, -0.11079799,  0.0293753 , -0.14352795, -0.10770674,\n",
       "         -0.23901518,  0.13908775, -0.05634579, -0.00662987,  0.05064963,\n",
       "         -0.00453053, -0.22748311, -0.1540334 ,  0.09584685,  0.21431665,\n",
       "         -0.15656531,  0.00753002,  0.13278307, -0.21732172,  0.01217575,\n",
       "          0.12871815, -0.09393771,  0.05401243, -0.01372966,  0.10650654,\n",
       "         -0.1783381 , -0.02653039,  0.1232933 ,  0.2072907 ,  0.05383484,\n",
       "          0.03478058, -0.16947883,  0.08554418, -0.12298781, -0.15290403,\n",
       "          0.18657677, -0.07931377,  0.2208684 , -0.09929185,  0.01817368,\n",
       "         -0.14085436,  0.0943412 , -0.17366183, -0.1519776 , -0.12496489,\n",
       "          0.07898439, -0.19916685,  0.00460714,  0.05066811, -0.17317927,\n",
       "         -0.07905737, -0.15527841, -0.03572159, -0.12853424,  0.04636599,\n",
       "         -0.12655431, -0.0643077 ,  0.1696075 , -0.1999684 ,  0.13213854,\n",
       "          0.17723016,  0.04027559, -0.03272831,  0.04478996, -0.02191088,\n",
       "         -0.00194204,  0.16499154,  0.12212767, -0.04183282,  0.19063656,\n",
       "          0.11258449, -0.09601794,  0.06962778, -0.08915913,  0.09613056],\n",
       "        [ 0.02050509,  0.12390085,  0.05891435,  0.06779195, -0.12749714,\n",
       "         -0.15592727, -0.16087261,  0.0789239 ,  0.18181996, -0.23563111,\n",
       "          0.03673311,  0.10521285, -0.21472353,  0.18909957, -0.12484526,\n",
       "         -0.17914477, -0.14892597, -0.17029816, -0.00782143, -0.10121074,\n",
       "          0.12154229,  0.10435842, -0.2314484 , -0.11362125, -0.18746427,\n",
       "         -0.00650796,  0.2168733 , -0.02649944, -0.10833897, -0.19439313,\n",
       "         -0.10589413,  0.21608065,  0.22015502,  0.04938872, -0.0647735 ,\n",
       "          0.15936475, -0.20632607,  0.0437295 , -0.20455234,  0.23062296,\n",
       "          0.06653486, -0.0753755 , -0.08749551,  0.21145134, -0.19906159,\n",
       "          0.20844366, -0.00651777, -0.02204977,  0.10671057, -0.1125695 ,\n",
       "          0.18400992,  0.05246167, -0.17885822, -0.21664676, -0.21834674,\n",
       "         -0.14142308,  0.17712216,  0.12646402, -0.22359146, -0.01718919,\n",
       "         -0.16709875, -0.05146714, -0.1194013 , -0.07033807, -0.0165911 ,\n",
       "          0.00627948,  0.22066386, -0.05220997,  0.03690077,  0.2222295 ,\n",
       "         -0.03463057,  0.08980037,  0.03830449,  0.19614507,  0.02920614,\n",
       "         -0.01581377, -0.13534   , -0.21298952,  0.04423888,  0.02900366,\n",
       "         -0.09850882,  0.1521857 ,  0.12558691, -0.04180689, -0.03761734,\n",
       "         -0.10985811, -0.02266838, -0.16710445, -0.12870596, -0.20012274,\n",
       "          0.04886152, -0.09734571, -0.02039213,  0.01180695, -0.08914192,\n",
       "          0.12520243,  0.08237664,  0.08825271,  0.04780926,  0.08699523],\n",
       "        [-0.03870893, -0.14687434, -0.00392579, -0.15112157, -0.0276638 ,\n",
       "         -0.23847586,  0.08183213, -0.18046188, -0.13024375, -0.11240871,\n",
       "          0.19211085, -0.22276409,  0.14942826,  0.00358936, -0.07121781,\n",
       "          0.03619592,  0.16272373, -0.09094819,  0.19324632,  0.14526601,\n",
       "          0.0827208 ,  0.04277839, -0.01453656,  0.07968314,  0.2183664 ,\n",
       "         -0.07801376, -0.17406169,  0.1670296 , -0.19888337, -0.10026021,\n",
       "          0.05002691, -0.10419871, -0.07837288, -0.20410495, -0.05401592,\n",
       "         -0.07739049, -0.1064859 , -0.19555019, -0.1999456 , -0.08358157,\n",
       "          0.06294562, -0.09164949, -0.19899656, -0.23471518, -0.15007678,\n",
       "         -0.00962292, -0.04172762,  0.10865356, -0.13072403, -0.12145333,\n",
       "          0.01029663, -0.07907964,  0.10299338, -0.20899734,  0.03681727,\n",
       "          0.12281774,  0.15114768, -0.05754378,  0.04406513,  0.09164135,\n",
       "         -0.20148201, -0.04928094, -0.17743704,  0.07522412, -0.02512808,\n",
       "          0.14147182,  0.01533784,  0.23152591,  0.23023005,  0.21418597,\n",
       "         -0.21778576, -0.23080403,  0.03798915, -0.1307225 , -0.16612394,\n",
       "          0.09955071, -0.12547532, -0.15761569, -0.01586108, -0.13758865,\n",
       "         -0.04876128, -0.06188305, -0.15170358,  0.13598697, -0.12742487,\n",
       "         -0.22693986,  0.01793356,  0.10822628, -0.0783291 ,  0.23024447,\n",
       "         -0.17205645, -0.07863693,  0.06528313, -0.23671404, -0.14027712,\n",
       "         -0.09552656,  0.13877673, -0.03838772,  0.21635981, -0.00842839]],\n",
       "       dtype=float32)>,\n",
       " <tf.Variable 'dense_1/bias:0' shape=(100,) dtype=float32, numpy=\n",
       " array([0., 0., 0., 0., 0., 0., 0., 0., 0., 0., 0., 0., 0., 0., 0., 0., 0.,\n",
       "        0., 0., 0., 0., 0., 0., 0., 0., 0., 0., 0., 0., 0., 0., 0., 0., 0.,\n",
       "        0., 0., 0., 0., 0., 0., 0., 0., 0., 0., 0., 0., 0., 0., 0., 0., 0.,\n",
       "        0., 0., 0., 0., 0., 0., 0., 0., 0., 0., 0., 0., 0., 0., 0., 0., 0.,\n",
       "        0., 0., 0., 0., 0., 0., 0., 0., 0., 0., 0., 0., 0., 0., 0., 0., 0.,\n",
       "        0., 0., 0., 0., 0., 0., 0., 0., 0., 0., 0., 0., 0., 0., 0.],\n",
       "       dtype=float32)>]"
      ]
     },
     "execution_count": 3,
     "metadata": {},
     "output_type": "execute_result"
    }
   ],
   "source": [
    "# layer.variables 查看layer的变量\n",
    "# x * w + b\n",
    "layer.trainable_variables"
   ]
  },
  {
   "cell_type": "code",
   "execution_count": 4,
   "metadata": {},
   "outputs": [
    {
     "name": "stdout",
     "output_type": "stream",
     "text": [
      ".. _california_housing_dataset:\n",
      "\n",
      "California Housing dataset\n",
      "--------------------------\n",
      "\n",
      "**Data Set Characteristics:**\n",
      "\n",
      "    :Number of Instances: 20640\n",
      "\n",
      "    :Number of Attributes: 8 numeric, predictive attributes and the target\n",
      "\n",
      "    :Attribute Information:\n",
      "        - MedInc        median income in block\n",
      "        - HouseAge      median house age in block\n",
      "        - AveRooms      average number of rooms\n",
      "        - AveBedrms     average number of bedrooms\n",
      "        - Population    block population\n",
      "        - AveOccup      average house occupancy\n",
      "        - Latitude      house block latitude\n",
      "        - Longitude     house block longitude\n",
      "\n",
      "    :Missing Attribute Values: None\n",
      "\n",
      "This dataset was obtained from the StatLib repository.\n",
      "http://lib.stat.cmu.edu/datasets/\n",
      "\n",
      "The target variable is the median house value for California districts.\n",
      "\n",
      "This dataset was derived from the 1990 U.S. census, using one row per census\n",
      "block group. A block group is the smallest geographical unit for which the U.S.\n",
      "Census Bureau publishes sample data (a block group typically has a population\n",
      "of 600 to 3,000 people).\n",
      "\n",
      "It can be downloaded/loaded using the\n",
      ":func:`sklearn.datasets.fetch_california_housing` function.\n",
      "\n",
      ".. topic:: References\n",
      "\n",
      "    - Pace, R. Kelley and Ronald Barry, Sparse Spatial Autoregressions,\n",
      "      Statistics and Probability Letters, 33 (1997) 291-297\n",
      "\n",
      "(20640, 8)\n",
      "(20640,)\n"
     ]
    }
   ],
   "source": [
    "from sklearn.datasets import fetch_california_housing\n",
    "\n",
    "housing = fetch_california_housing()\n",
    "print(housing.DESCR)\n",
    "print(housing.data.shape)\n",
    "print(housing.target.shape)"
   ]
  },
  {
   "cell_type": "code",
   "execution_count": 5,
   "metadata": {},
   "outputs": [
    {
     "name": "stdout",
     "output_type": "stream",
     "text": [
      "(11610, 8) (11610,)\n",
      "(3870, 8) (3870,)\n",
      "(5160, 8) (5160,)\n"
     ]
    }
   ],
   "source": [
    "from sklearn.model_selection import train_test_split\n",
    "\n",
    "x_train_all, x_test, y_train_all, y_test = train_test_split(\n",
    "    housing.data, housing.target, random_state = 7)\n",
    "x_train, x_valid, y_train, y_valid = train_test_split(\n",
    "    x_train_all, y_train_all, random_state = 11)\n",
    "print(x_train.shape, y_train.shape)\n",
    "print(x_valid.shape, y_valid.shape)\n",
    "print(x_test.shape, y_test.shape)\n"
   ]
  },
  {
   "cell_type": "code",
   "execution_count": 6,
   "metadata": {},
   "outputs": [],
   "source": [
    "from sklearn.preprocessing import StandardScaler\n",
    "\n",
    "scaler = StandardScaler()\n",
    "x_train_scaled = scaler.fit_transform(x_train)\n",
    "x_valid_scaled = scaler.transform(x_valid)\n",
    "x_test_scaled = scaler.transform(x_test)"
   ]
  },
  {
   "cell_type": "code",
   "execution_count": 7,
   "metadata": {},
   "outputs": [
    {
     "name": "stdout",
     "output_type": "stream",
     "text": [
      "tf.Tensor([4.5417706e-05 6.7153489e-03 6.9314718e-01 5.0067153e+00 1.0000046e+01], shape=(5,), dtype=float32)\n"
     ]
    }
   ],
   "source": [
    "# tf.nn.softplus : log(1+e^x)\n",
    "customized_softplus = keras.layers.Lambda(lambda x : tf.nn.softplus(x))\n",
    "print(customized_softplus([-10., -5., 0., 5., 10.]))"
   ]
  },
  {
   "cell_type": "code",
   "execution_count": 8,
   "metadata": {},
   "outputs": [
    {
     "name": "stdout",
     "output_type": "stream",
     "text": [
      "Model: \"sequential\"\n",
      "_________________________________________________________________\n",
      "Layer (type)                 Output Shape              Param #   \n",
      "=================================================================\n",
      "customized_dense_layer (Cust (None, 30)                270       \n",
      "_________________________________________________________________\n",
      "customized_dense_layer_1 (Cu (None, 1)                 31        \n",
      "_________________________________________________________________\n",
      "lambda (Lambda)              (None, 1)                 0         \n",
      "=================================================================\n",
      "Total params: 301\n",
      "Trainable params: 301\n",
      "Non-trainable params: 0\n",
      "_________________________________________________________________\n"
     ]
    }
   ],
   "source": [
    "# customized dense layer.\n",
    "class CustomizedDenseLayer(keras.layers.Layer):\n",
    "    def __init__(self, units, activation=None, **kwargs):\n",
    "        self.units = units\n",
    "        self.activation = keras.layers.Activation(activation)\n",
    "        super(CustomizedDenseLayer, self).__init__(**kwargs)\n",
    "    \n",
    "    def build(self, input_shape):\n",
    "        \"\"\"构建所需要的参数\"\"\"\n",
    "        # x * w + b. input_shape:[None, a] w:[a,b]output_shape: [None, b]\n",
    "        self.kernel = self.add_weight(name = 'kernel',\n",
    "                                      shape = (input_shape[1], self.units),\n",
    "                                      initializer = 'uniform',\n",
    "                                      trainable = True)\n",
    "        self.bias = self.add_weight(name = 'bias',\n",
    "                                    shape = (self.units, ),\n",
    "                                    initializer = 'zeros',\n",
    "                                    trainable = True)\n",
    "        super(CustomizedDenseLayer, self).build(input_shape)\n",
    "    \n",
    "    def call(self, x):\n",
    "        \"\"\"完成正向计算\"\"\"\n",
    "        return self.activation(x @ self.kernel + self.bias)\n",
    "\n",
    "model = keras.models.Sequential([\n",
    "    CustomizedDenseLayer(30, activation='relu',\n",
    "                         input_shape=x_train.shape[1:]),\n",
    "    CustomizedDenseLayer(1),\n",
    "    customized_softplus,\n",
    "    # keras.layers.Dense(1, activation=\"softplus\"),\n",
    "    # keras.layers.Dense(1), keras.layers.Activation('softplus'),\n",
    "])\n",
    "model.summary()\n",
    "model.compile(loss=\"mean_squared_error\", optimizer=\"sgd\")\n",
    "callbacks = [keras.callbacks.EarlyStopping(\n",
    "    patience=5, min_delta=1e-2)]"
   ]
  },
  {
   "cell_type": "code",
   "execution_count": 9,
   "metadata": {},
   "outputs": [
    {
     "name": "stdout",
     "output_type": "stream",
     "text": [
      "Train on 11610 samples, validate on 3870 samples\n",
      "Epoch 1/100\n",
      "11610/11610 [==============================] - 1s 121us/sample - loss: 1.1921 - val_loss: 0.6801\n",
      "Epoch 2/100\n",
      "11610/11610 [==============================] - 1s 67us/sample - loss: 0.5913 - val_loss: 0.5856\n",
      "Epoch 3/100\n",
      "11610/11610 [==============================] - 1s 61us/sample - loss: 0.5163 - val_loss: 0.5220\n",
      "Epoch 4/100\n",
      "11610/11610 [==============================] - 1s 63us/sample - loss: 0.4757 - val_loss: 0.4905\n",
      "Epoch 5/100\n",
      "11610/11610 [==============================] - 1s 60us/sample - loss: 0.4574 - val_loss: 0.4773\n",
      "Epoch 6/100\n",
      "11610/11610 [==============================] - 1s 58us/sample - loss: 0.4539 - val_loss: 0.4801\n",
      "Epoch 7/100\n",
      "11610/11610 [==============================] - 1s 59us/sample - loss: 0.4409 - val_loss: 0.4544\n",
      "Epoch 8/100\n",
      "11610/11610 [==============================] - 1s 67us/sample - loss: 0.4210 - val_loss: 0.4340\n",
      "Epoch 9/100\n",
      "11610/11610 [==============================] - 1s 61us/sample - loss: 0.4122 - val_loss: 0.4233\n",
      "Epoch 10/100\n",
      "11610/11610 [==============================] - 1s 72us/sample - loss: 0.4075 - val_loss: 0.4270\n",
      "Epoch 11/100\n",
      "11610/11610 [==============================] - 1s 57us/sample - loss: 0.4003 - val_loss: 0.4169\n",
      "Epoch 12/100\n",
      "11610/11610 [==============================] - 1s 59us/sample - loss: 0.3942 - val_loss: 0.4079\n",
      "Epoch 13/100\n",
      "11610/11610 [==============================] - 1s 56us/sample - loss: 0.3885 - val_loss: 0.4011\n",
      "Epoch 14/100\n",
      "11610/11610 [==============================] - 1s 57us/sample - loss: 0.3847 - val_loss: 0.3972\n",
      "Epoch 15/100\n",
      "11610/11610 [==============================] - 1s 58us/sample - loss: 0.3804 - val_loss: 0.3986\n",
      "Epoch 16/100\n",
      "11610/11610 [==============================] - 1s 71us/sample - loss: 0.3783 - val_loss: 0.4030\n",
      "Epoch 17/100\n",
      "11610/11610 [==============================] - 1s 63us/sample - loss: 0.3765 - val_loss: 0.3881\n",
      "Epoch 18/100\n",
      "11610/11610 [==============================] - 1s 63us/sample - loss: 0.3746 - val_loss: 0.3995\n",
      "Epoch 19/100\n",
      "11610/11610 [==============================] - 1s 62us/sample - loss: 0.3731 - val_loss: 0.3874\n"
     ]
    }
   ],
   "source": [
    "history = model.fit(x_train_scaled, y_train,\n",
    "                    validation_data = (x_valid_scaled, y_valid),\n",
    "                    epochs = 100,\n",
    "                    callbacks = callbacks)"
   ]
  },
  {
   "cell_type": "code",
   "execution_count": 10,
   "metadata": {},
   "outputs": [
    {
     "data": {
      "image/png": "[encoded data removed]",
      "text/plain": [
       "<Figure size 576x360 with 1 Axes>"
      ]
     },
     "metadata": {
      "needs_background": "light"
     },
     "output_type": "display_data"
    }
   ],
   "source": [
    "def plot_learning_curves(history):\n",
    "    pd.DataFrame(history.history).plot(figsize=(8, 5))\n",
    "    plt.grid(True)\n",
    "    plt.gca().set_ylim(0, 1)\n",
    "    plt.show()\n",
    "plot_learning_curves(history)"
   ]
  },
  {
   "cell_type": "code",
   "execution_count": null,
   "metadata": {},
   "outputs": [],
   "source": [
    "model.evaluate(x_test_scaled, y_test)"
   ]
  },
  {
   "cell_type": "code",
   "execution_count": null,
   "metadata": {},
   "outputs": [],
   "source": []
  }
 ],
 "metadata": {
  "kernelspec": {
   "display_name": "Python 3",
   "language": "python",
   "name": "python3"
  },
  "language_info": {
   "codemirror_mode": {
    "name": "ipython",
    "version": 3
   },
   "file_extension": ".py",
   "mimetype": "text/x-python",
   "name": "python",
   "nbconvert_exporter": "python",
   "pygments_lexer": "ipython3",
   "version": "3.7.3"
  }
 },
 "nbformat": 4,
 "nbformat_minor": 2
}
