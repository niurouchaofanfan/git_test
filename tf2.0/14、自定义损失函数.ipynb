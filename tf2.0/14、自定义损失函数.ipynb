{
 "cells": [
  {
   "cell_type": "code",
   "execution_count": 1,
   "metadata": {},
   "outputs": [
    {
     "name": "stdout",
     "output_type": "stream",
     "text": [
      "2.0.0\n",
      "sys.version_info(major=3, minor=7, micro=3, releaselevel='final', serial=0)\n",
      "matplotlib 3.0.3\n",
      "numpy 1.16.6\n",
      "pandas 0.24.2\n",
      "sklearn 0.20.3\n",
      "tensorflow 2.0.0\n",
      "tensorflow_core.keras 2.2.4-tf\n"
     ]
    }
   ],
   "source": [
    "import matplotlib as mpl\n",
    "import matplotlib.pyplot as plt\n",
    "%matplotlib inline\n",
    "import numpy as np\n",
    "import sklearn\n",
    "import pandas as pd\n",
    "import os\n",
    "import sys\n",
    "import time\n",
    "import tensorflow as tf\n",
    "\n",
    "from tensorflow import keras\n",
    "\n",
    "print(tf.__version__)\n",
    "print(sys.version_info)\n",
    "for module in mpl, np, pd, sklearn, tf, keras:\n",
    "    print(module.__name__, module.__version__)"
   ]
  },
  {
   "cell_type": "code",
   "execution_count": 2,
   "metadata": {},
   "outputs": [
    {
     "name": "stdout",
     "output_type": "stream",
     "text": [
      ".. _california_housing_dataset:\n",
      "\n",
      "California Housing dataset\n",
      "--------------------------\n",
      "\n",
      "**Data Set Characteristics:**\n",
      "\n",
      "    :Number of Instances: 20640\n",
      "\n",
      "    :Number of Attributes: 8 numeric, predictive attributes and the target\n",
      "\n",
      "    :Attribute Information:\n",
      "        - MedInc        median income in block\n",
      "        - HouseAge      median house age in block\n",
      "        - AveRooms      average number of rooms\n",
      "        - AveBedrms     average number of bedrooms\n",
      "        - Population    block population\n",
      "        - AveOccup      average house occupancy\n",
      "        - Latitude      house block latitude\n",
      "        - Longitude     house block longitude\n",
      "\n",
      "    :Missing Attribute Values: None\n",
      "\n",
      "This dataset was obtained from the StatLib repository.\n",
      "http://lib.stat.cmu.edu/datasets/\n",
      "\n",
      "The target variable is the median house value for California districts.\n",
      "\n",
      "This dataset was derived from the 1990 U.S. census, using one row per census\n",
      "block group. A block group is the smallest geographical unit for which the U.S.\n",
      "Census Bureau publishes sample data (a block group typically has a population\n",
      "of 600 to 3,000 people).\n",
      "\n",
      "It can be downloaded/loaded using the\n",
      ":func:`sklearn.datasets.fetch_california_housing` function.\n",
      "\n",
      ".. topic:: References\n",
      "\n",
      "    - Pace, R. Kelley and Ronald Barry, Sparse Spatial Autoregressions,\n",
      "      Statistics and Probability Letters, 33 (1997) 291-297\n",
      "\n",
      "(20640, 8)\n",
      "(20640,)\n"
     ]
    }
   ],
   "source": [
    "from sklearn.datasets import fetch_california_housing\n",
    "\n",
    "housing = fetch_california_housing()\n",
    "print(housing.DESCR)\n",
    "print(housing.data.shape)\n",
    "print(housing.target.shape)"
   ]
  },
  {
   "cell_type": "code",
   "execution_count": 3,
   "metadata": {},
   "outputs": [
    {
     "name": "stdout",
     "output_type": "stream",
     "text": [
      "(11610, 8) (11610,)\n",
      "(3870, 8) (3870,)\n",
      "(5160, 8) (5160,)\n"
     ]
    }
   ],
   "source": [
    "from sklearn.model_selection import train_test_split\n",
    "\n",
    "x_train_all, x_test, y_train_all, y_test = train_test_split(\n",
    "    housing.data, housing.target, random_state = 7)\n",
    "x_train, x_valid, y_train, y_valid = train_test_split(\n",
    "    x_train_all, y_train_all, random_state = 11)\n",
    "print(x_train.shape, y_train.shape)\n",
    "print(x_valid.shape, y_valid.shape)\n",
    "print(x_test.shape, y_test.shape)\n"
   ]
  },
  {
   "cell_type": "code",
   "execution_count": 4,
   "metadata": {},
   "outputs": [],
   "source": [
    "from sklearn.preprocessing import StandardScaler\n",
    "\n",
    "scaler = StandardScaler()\n",
    "x_train_scaled = scaler.fit_transform(x_train)\n",
    "x_valid_scaled = scaler.transform(x_valid)\n",
    "x_test_scaled = scaler.transform(x_test)"
   ]
  },
  {
   "cell_type": "code",
   "execution_count": 5,
   "metadata": {},
   "outputs": [
    {
     "name": "stdout",
     "output_type": "stream",
     "text": [
      "Model: \"sequential\"\n",
      "_________________________________________________________________\n",
      "Layer (type)                 Output Shape              Param #   \n",
      "=================================================================\n",
      "dense (Dense)                (None, 30)                270       \n",
      "_________________________________________________________________\n",
      "dense_1 (Dense)              (None, 1)                 31        \n",
      "=================================================================\n",
      "Total params: 301\n",
      "Trainable params: 301\n",
      "Non-trainable params: 0\n",
      "_________________________________________________________________\n"
     ]
    }
   ],
   "source": [
    "def customized_mse(y_true, y_pred):\n",
    "    return tf.reduce_mean(tf.square(y_pred - y_true))\n",
    "\n",
    "model = keras.models.Sequential([\n",
    "    keras.layers.Dense(30, activation='relu',\n",
    "                       input_shape=x_train.shape[1:]),\n",
    "    keras.layers.Dense(1),\n",
    "])\n",
    "model.summary()\n",
    "model.compile(loss=customized_mse, optimizer=\"sgd\",\n",
    "              metrics=[\"mean_squared_error\"])\n",
    "callbacks = [keras.callbacks.EarlyStopping(\n",
    "    patience=5, min_delta=1e-2)]"
   ]
  },
  {
   "cell_type": "code",
   "execution_count": 6,
   "metadata": {},
   "outputs": [
    {
     "name": "stdout",
     "output_type": "stream",
     "text": [
      "Train on 11610 samples, validate on 3870 samples\n",
      "Epoch 1/100\n",
      "11610/11610 [==============================] - 1s 104us/sample - loss: 0.9397 - mean_squared_error: 0.9397 - val_loss: 0.6777 - val_mean_squared_error: 0.6777\n",
      "Epoch 2/100\n",
      "11610/11610 [==============================] - 1s 69us/sample - loss: 0.5912 - mean_squared_error: 0.5912 - val_loss: 0.5148 - val_mean_squared_error: 0.5148\n",
      "Epoch 3/100\n",
      "11610/11610 [==============================] - 1s 73us/sample - loss: 0.4598 - mean_squared_error: 0.4598 - val_loss: 0.4565 - val_mean_squared_error: 0.4565\n",
      "Epoch 4/100\n",
      "11610/11610 [==============================] - 1s 52us/sample - loss: 0.4317 - mean_squared_error: 0.4317 - val_loss: 0.4375 - val_mean_squared_error: 0.4375\n",
      "Epoch 5/100\n",
      "11610/11610 [==============================] - 1s 59us/sample - loss: 0.4130 - mean_squared_error: 0.4130 - val_loss: 0.4213 - val_mean_squared_error: 0.4213\n",
      "Epoch 6/100\n",
      "11610/11610 [==============================] - 0s 42us/sample - loss: 0.4031 - mean_squared_error: 0.4031 - val_loss: 0.4109 - val_mean_squared_error: 0.4109\n",
      "Epoch 7/100\n",
      "11610/11610 [==============================] - 0s 41us/sample - loss: 0.3947 - mean_squared_error: 0.3947 - val_loss: 0.4016 - val_mean_squared_error: 0.4016\n",
      "Epoch 8/100\n",
      "11610/11610 [==============================] - 1s 71us/sample - loss: 0.3882 - mean_squared_error: 0.3882 - val_loss: 0.3976 - val_mean_squared_error: 0.3976\n",
      "Epoch 9/100\n",
      "11610/11610 [==============================] - 1s 71us/sample - loss: 0.3840 - mean_squared_error: 0.3840 - val_loss: 0.3935 - val_mean_squared_error: 0.3935\n",
      "Epoch 10/100\n",
      "11610/11610 [==============================] - 1s 53us/sample - loss: 0.3812 - mean_squared_error: 0.3812 - val_loss: 0.4030 - val_mean_squared_error: 0.4030\n",
      "Epoch 11/100\n",
      "11610/11610 [==============================] - 1s 47us/sample - loss: 0.3807 - mean_squared_error: 0.3807 - val_loss: 0.3857 - val_mean_squared_error: 0.3857\n",
      "Epoch 12/100\n",
      "11610/11610 [==============================] - 1s 48us/sample - loss: 0.3763 - mean_squared_error: 0.3763 - val_loss: 0.3836 - val_mean_squared_error: 0.3836\n",
      "Epoch 13/100\n",
      "11610/11610 [==============================] - 1s 47us/sample - loss: 0.3733 - mean_squared_error: 0.3733 - val_loss: 0.3832 - val_mean_squared_error: 0.3832\n",
      "Epoch 14/100\n",
      "11610/11610 [==============================] - 1s 59us/sample - loss: 0.3711 - mean_squared_error: 0.3711 - val_loss: 0.3786 - val_mean_squared_error: 0.3786\n",
      "Epoch 15/100\n",
      "11610/11610 [==============================] - 1s 52us/sample - loss: 0.3709 - mean_squared_error: 0.3709 - val_loss: 0.4473 - val_mean_squared_error: 0.4473\n",
      "Epoch 16/100\n",
      "11610/11610 [==============================] - 1s 46us/sample - loss: 0.3678 - mean_squared_error: 0.3678 - val_loss: 0.3775 - val_mean_squared_error: 0.3775\n"
     ]
    }
   ],
   "source": [
    "history = model.fit(x_train_scaled, y_train,\n",
    "                    validation_data = (x_valid_scaled, y_valid),\n",
    "                    epochs = 100,\n",
    "                    callbacks = callbacks)"
   ]
  },
  {
   "cell_type": "code",
   "execution_count": 7,
   "metadata": {},
   "outputs": [
    {
     "data": {
      "image/png": "[encoded data removed]",
      "text/plain": [
       "<Figure size 576x360 with 1 Axes>"
      ]
     },
     "metadata": {
      "needs_background": "light"
     },
     "output_type": "display_data"
    }
   ],
   "source": [
    "def plot_learning_curves(history):\n",
    "    pd.DataFrame(history.history).plot(figsize=(8, 5))\n",
    "    plt.grid(True)\n",
    "    plt.gca().set_ylim(0, 1)\n",
    "    plt.show()\n",
    "plot_learning_curves(history)"
   ]
  },
  {
   "cell_type": "code",
   "execution_count": null,
   "metadata": {},
   "outputs": [],
   "source": []
  }
 ],
 "metadata": {
  "kernelspec": {
   "display_name": "Python 3",
   "language": "python",
   "name": "python3"
  },
  "language_info": {
   "codemirror_mode": {
    "name": "ipython",
    "version": 3
   },
   "file_extension": ".py",
   "mimetype": "text/x-python",
   "name": "python",
   "nbconvert_exporter": "python",
   "pygments_lexer": "ipython3",
   "version": "3.7.3"
  }
 },
 "nbformat": 4,
 "nbformat_minor": 2
}
