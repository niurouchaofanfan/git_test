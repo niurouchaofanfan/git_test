{
 "cells": [
  {
   "cell_type": "code",
   "execution_count": 1,
   "metadata": {},
   "outputs": [],
   "source": [
    "import tensorflow as tf\n",
    "import numpy as np"
   ]
  },
  {
   "cell_type": "code",
   "execution_count": 3,
   "metadata": {},
   "outputs": [
    {
     "data": {
      "text/plain": [
       "tensorflow.python.data.ops.dataset_ops.RangeDataset"
      ]
     },
     "execution_count": 3,
     "metadata": {},
     "output_type": "execute_result"
    }
   ],
   "source": [
    "dataset1 = tf.data.Dataset.range(5)\n",
    "type(dataset1)"
   ]
  },
  {
   "cell_type": "code",
   "execution_count": 4,
   "metadata": {},
   "outputs": [
    {
     "name": "stdout",
     "output_type": "stream",
     "text": [
      "tf.Tensor(0, shape=(), dtype=int64)\n",
      "0\n",
      "tf.Tensor(1, shape=(), dtype=int64)\n",
      "1\n",
      "tf.Tensor(2, shape=(), dtype=int64)\n",
      "2\n",
      "tf.Tensor(3, shape=(), dtype=int64)\n",
      "3\n",
      "tf.Tensor(4, shape=(), dtype=int64)\n",
      "4\n"
     ]
    }
   ],
   "source": [
    "for i in dataset1:\n",
    "    print(i)\n",
    "    print(i.numpy())"
   ]
  },
  {
   "cell_type": "code",
   "execution_count": 5,
   "metadata": {},
   "outputs": [],
   "source": [
    "def count(stop):\n",
    "  i = 0\n",
    "  while i<stop:\n",
    "    print('第%s次调用……'%i)\n",
    "    yield i\n",
    "    i += 1"
   ]
  },
  {
   "cell_type": "code",
   "execution_count": 6,
   "metadata": {},
   "outputs": [],
   "source": [
    "dataset2 = tf.data.Dataset.from_generator(count, args=[3], output_types=tf.int32, output_shapes = (),)"
   ]
  },
  {
   "cell_type": "code",
   "execution_count": 7,
   "metadata": {},
   "outputs": [],
   "source": [
    "a = iter(dataset2)"
   ]
  },
  {
   "cell_type": "code",
   "execution_count": 8,
   "metadata": {},
   "outputs": [
    {
     "name": "stdout",
     "output_type": "stream",
     "text": [
      "第0次调用……\n"
     ]
    },
    {
     "data": {
      "text/plain": [
       "<tf.Tensor: id=46, shape=(), dtype=int32, numpy=0>"
      ]
     },
     "execution_count": 8,
     "metadata": {},
     "output_type": "execute_result"
    }
   ],
   "source": [
    "next(a)"
   ]
  },
  {
   "cell_type": "code",
   "execution_count": 9,
   "metadata": {},
   "outputs": [
    {
     "name": "stdout",
     "output_type": "stream",
     "text": [
      "第1次调用……\n"
     ]
    },
    {
     "data": {
      "text/plain": [
       "<tf.Tensor: id=47, shape=(), dtype=int32, numpy=1>"
      ]
     },
     "execution_count": 9,
     "metadata": {},
     "output_type": "execute_result"
    }
   ],
   "source": [
    "next(a)"
   ]
  },
  {
   "cell_type": "code",
   "execution_count": 10,
   "metadata": {},
   "outputs": [
    {
     "data": {
      "text/plain": [
       "'通过接收其他类型的集合类对象创建Dataset对象。\\n这里所说的集合类型对象包含Python内置的list、tuple，numpy中的\\nndarray等等。这种创建Dataset对象的方法大多通过from_tensors()和\\nfrom_tensor_slices()两个方法实现。'"
      ]
     },
     "execution_count": 10,
     "metadata": {},
     "output_type": "execute_result"
    }
   ],
   "source": [
    "'''通过接收其他类型的集合类对象创建Dataset对象。\n",
    "这里所说的集合类型对象包含Python内置的list、tuple，numpy中的\n",
    "ndarray等等。这种创建Dataset对象的方法大多通过from_tensors()和\n",
    "from_tensor_slices()两个方法实现。'''"
   ]
  },
  {
   "cell_type": "code",
   "execution_count": 11,
   "metadata": {},
   "outputs": [],
   "source": [
    "a = [0,1,2,3,4]\n",
    "dataset1 = tf.data.Dataset.from_tensors(a)\n",
    "dataset1_n = tf.data.Dataset.from_tensors(np.array(a))\n",
    "dataset1_t = tf.data.Dataset.from_tensors(tf.constant(a))"
   ]
  },
  {
   "cell_type": "code",
   "execution_count": 12,
   "metadata": {},
   "outputs": [
    {
     "data": {
      "text/plain": [
       "(<TensorDataset shapes: (5,), types: tf.int32>,\n",
       " <tf.Tensor: id=59, shape=(5,), dtype=int32, numpy=array([0, 1, 2, 3, 4])>)"
      ]
     },
     "execution_count": 12,
     "metadata": {},
     "output_type": "execute_result"
    }
   ],
   "source": [
    "dataset1,next(iter(dataset1))"
   ]
  },
  {
   "cell_type": "code",
   "execution_count": 13,
   "metadata": {},
   "outputs": [
    {
     "data": {
      "text/plain": [
       "(<TensorDataset shapes: (5,), types: tf.int32>,\n",
       " <tf.Tensor: id=65, shape=(5,), dtype=int32, numpy=array([0, 1, 2, 3, 4])>)"
      ]
     },
     "execution_count": 13,
     "metadata": {},
     "output_type": "execute_result"
    }
   ],
   "source": [
    "dataset1_n,next(iter(dataset1_n))"
   ]
  },
  {
   "cell_type": "code",
   "execution_count": 16,
   "metadata": {},
   "outputs": [
    {
     "data": {
      "text/plain": [
       "(<TensorDataset shapes: (5,), types: tf.int32>, array([0, 1, 2, 3, 4]))"
      ]
     },
     "execution_count": 16,
     "metadata": {},
     "output_type": "execute_result"
    }
   ],
   "source": [
    "dataset1_t,next(iter(dataset1_t)).numpy()"
   ]
  },
  {
   "cell_type": "code",
   "execution_count": 17,
   "metadata": {},
   "outputs": [],
   "source": [
    "a = [0,1,2,3,4]\n",
    "b = [5,6,7,8,9]\n",
    "dataset2 = tf.data.Dataset.from_tensors([a,b])\n",
    "dataset2_n = tf.data.Dataset.from_tensors(np.array([a,b]))\n",
    "dataset2_t = tf.data.Dataset.from_tensors(tf.constant([a,b]))"
   ]
  },
  {
   "cell_type": "code",
   "execution_count": 19,
   "metadata": {},
   "outputs": [
    {
     "data": {
      "text/plain": [
       "(<TensorDataset shapes: (2, 5), types: tf.int32>,\n",
       " <tf.Tensor: id=89, shape=(2, 5), dtype=int32, numpy=\n",
       " array([[0, 1, 2, 3, 4],\n",
       "        [5, 6, 7, 8, 9]])>)"
      ]
     },
     "execution_count": 19,
     "metadata": {},
     "output_type": "execute_result"
    }
   ],
   "source": [
    "dataset2,next(iter(dataset2))"
   ]
  },
  {
   "cell_type": "code",
   "execution_count": 20,
   "metadata": {},
   "outputs": [],
   "source": [
    "a = [0,1,2,3,4]\n",
    "dataset1 = tf.data.Dataset.from_tensor_slices(a)"
   ]
  },
  {
   "cell_type": "code",
   "execution_count": 21,
   "metadata": {},
   "outputs": [
    {
     "data": {
      "text/plain": [
       "<TensorSliceDataset shapes: (), types: tf.int32>"
      ]
     },
     "execution_count": 21,
     "metadata": {},
     "output_type": "execute_result"
    }
   ],
   "source": [
    "dataset1"
   ]
  },
  {
   "cell_type": "code",
   "execution_count": 22,
   "metadata": {},
   "outputs": [
    {
     "name": "stdout",
     "output_type": "stream",
     "text": [
      "0 --> tf.Tensor(0, shape=(), dtype=int32)\n",
      "1 --> tf.Tensor(1, shape=(), dtype=int32)\n",
      "2 --> tf.Tensor(2, shape=(), dtype=int32)\n",
      "3 --> tf.Tensor(3, shape=(), dtype=int32)\n",
      "4 --> tf.Tensor(4, shape=(), dtype=int32)\n"
     ]
    }
   ],
   "source": [
    "for i,elem in enumerate(dataset1):\n",
    "    print(i, '-->', elem)"
   ]
  },
  {
   "cell_type": "code",
   "execution_count": 23,
   "metadata": {},
   "outputs": [],
   "source": [
    "a = [0,1,2,3,4]\n",
    "b = [5,6,7,8,9]\n",
    "dataset2 = tf.data.Dataset.from_tensor_slices([a,b])"
   ]
  },
  {
   "cell_type": "code",
   "execution_count": 24,
   "metadata": {},
   "outputs": [
    {
     "data": {
      "text/plain": [
       "<TensorSliceDataset shapes: (5,), types: tf.int32>"
      ]
     },
     "execution_count": 24,
     "metadata": {},
     "output_type": "execute_result"
    }
   ],
   "source": [
    "dataset2"
   ]
  },
  {
   "cell_type": "code",
   "execution_count": 25,
   "metadata": {},
   "outputs": [
    {
     "name": "stdout",
     "output_type": "stream",
     "text": [
      "0 --> tf.Tensor([0 1 2 3 4], shape=(5,), dtype=int32)\n",
      "1 --> tf.Tensor([5 6 7 8 9], shape=(5,), dtype=int32)\n"
     ]
    }
   ],
   "source": [
    "for i,elem in enumerate(dataset2):\n",
    "    print(i, '-->', elem)"
   ]
  },
  {
   "cell_type": "code",
   "execution_count": 26,
   "metadata": {},
   "outputs": [],
   "source": [
    "a = [0,1,2,3,4]\n",
    "b = [5,6,7,8,9]\n",
    "dataset1 = tf.data.Dataset.from_tensor_slices((a,b))"
   ]
  },
  {
   "cell_type": "code",
   "execution_count": 27,
   "metadata": {},
   "outputs": [
    {
     "data": {
      "text/plain": [
       "<TensorSliceDataset shapes: ((), ()), types: (tf.int32, tf.int32)>"
      ]
     },
     "execution_count": 27,
     "metadata": {},
     "output_type": "execute_result"
    }
   ],
   "source": [
    "dataset1"
   ]
  },
  {
   "cell_type": "code",
   "execution_count": 28,
   "metadata": {},
   "outputs": [
    {
     "name": "stdout",
     "output_type": "stream",
     "text": [
      "(<tf.Tensor: id=119, shape=(), dtype=int32, numpy=0>, <tf.Tensor: id=120, shape=(), dtype=int32, numpy=5>)\n",
      "(<tf.Tensor: id=121, shape=(), dtype=int32, numpy=1>, <tf.Tensor: id=122, shape=(), dtype=int32, numpy=6>)\n",
      "(<tf.Tensor: id=123, shape=(), dtype=int32, numpy=2>, <tf.Tensor: id=124, shape=(), dtype=int32, numpy=7>)\n",
      "(<tf.Tensor: id=125, shape=(), dtype=int32, numpy=3>, <tf.Tensor: id=126, shape=(), dtype=int32, numpy=8>)\n",
      "(<tf.Tensor: id=127, shape=(), dtype=int32, numpy=4>, <tf.Tensor: id=128, shape=(), dtype=int32, numpy=9>)\n"
     ]
    }
   ],
   "source": [
    "for i in dataset1:\n",
    "    print(i)"
   ]
  },
  {
   "cell_type": "code",
   "execution_count": 29,
   "metadata": {},
   "outputs": [],
   "source": [
    "c = ['a','b','c','d','e']\n",
    "dataset3 = tf.data.Dataset.from_tensor_slices((a,b,c))"
   ]
  },
  {
   "cell_type": "code",
   "execution_count": 30,
   "metadata": {},
   "outputs": [
    {
     "data": {
      "text/plain": [
       "<TensorSliceDataset shapes: ((), (), ()), types: (tf.int32, tf.int32, tf.string)>"
      ]
     },
     "execution_count": 30,
     "metadata": {},
     "output_type": "execute_result"
    }
   ],
   "source": [
    "dataset3"
   ]
  },
  {
   "cell_type": "code",
   "execution_count": 33,
   "metadata": {},
   "outputs": [
    {
     "name": "stdout",
     "output_type": "stream",
     "text": [
      "(<tf.Tensor: id=166, shape=(), dtype=int32, numpy=0>, <tf.Tensor: id=167, shape=(), dtype=int32, numpy=5>, <tf.Tensor: id=168, shape=(), dtype=string, numpy=b'a'>)\n",
      "(<tf.Tensor: id=169, shape=(), dtype=int32, numpy=1>, <tf.Tensor: id=170, shape=(), dtype=int32, numpy=6>, <tf.Tensor: id=171, shape=(), dtype=string, numpy=b'b'>)\n",
      "(<tf.Tensor: id=172, shape=(), dtype=int32, numpy=2>, <tf.Tensor: id=173, shape=(), dtype=int32, numpy=7>, <tf.Tensor: id=174, shape=(), dtype=string, numpy=b'c'>)\n",
      "(<tf.Tensor: id=175, shape=(), dtype=int32, numpy=3>, <tf.Tensor: id=176, shape=(), dtype=int32, numpy=8>, <tf.Tensor: id=177, shape=(), dtype=string, numpy=b'd'>)\n",
      "(<tf.Tensor: id=178, shape=(), dtype=int32, numpy=4>, <tf.Tensor: id=179, shape=(), dtype=int32, numpy=9>, <tf.Tensor: id=180, shape=(), dtype=string, numpy=b'e'>)\n"
     ]
    }
   ],
   "source": [
    "for i in dataset3:\n",
    "    print(i)"
   ]
  },
  {
   "cell_type": "code",
   "execution_count": null,
   "metadata": {},
   "outputs": [],
   "source": []
  }
 ],
 "metadata": {
  "kernelspec": {
   "display_name": "Python 3",
   "language": "python",
   "name": "python3"
  },
  "language_info": {
   "codemirror_mode": {
    "name": "ipython",
    "version": 3
   },
   "file_extension": ".py",
   "mimetype": "text/x-python",
   "name": "python",
   "nbconvert_exporter": "python",
   "pygments_lexer": "ipython3",
   "version": "3.7.3"
  }
 },
 "nbformat": 4,
 "nbformat_minor": 2
}
